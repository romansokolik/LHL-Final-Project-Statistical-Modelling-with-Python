{
 "cells": [
  {
   "cell_type": "code",
   "metadata": {
    "ExecuteTime": {
     "end_time": "2024-11-17T19:13:04.445095Z",
     "start_time": "2024-11-17T19:13:04.439822Z"
    }
   },
   "source": [
    "import os\n",
    "from dotenv import load_dotenv\n",
    "import requests\n",
    "import pandas as pd\n",
    "import ast"
   ],
   "outputs": [],
   "execution_count": 2
  },
  {
   "metadata": {},
   "cell_type": "markdown",
   "source": "## City Bikes Data"
  },
  {
   "metadata": {
    "ExecuteTime": {
     "end_time": "2024-11-17T19:14:51.132149Z",
     "start_time": "2024-11-17T19:14:51.127641Z"
    }
   },
   "cell_type": "code",
   "source": [
    "# Get all networks from CSV file\n",
    "city_bikes = pd.read_csv('../data/city_bikes.csv')\n",
    "# Print the coordinates for the networks\n",
    "for i, station in city_bikes.head(1).iterrows():\n",
    "    print('latitude :', station['latitude'], 'longitude :', station['longitude'])"
   ],
   "outputs": [
    {
     "name": "stdout",
     "output_type": "stream",
     "text": [
      "latitude : 52.210833 longitude : 21.007851\n"
     ]
    }
   ],
   "execution_count": 11
  },
  {
   "metadata": {
    "ExecuteTime": {
     "end_time": "2024-11-17T19:14:01.691926Z",
     "start_time": "2024-11-17T19:14:01.687608Z"
    }
   },
   "cell_type": "code",
   "source": [
    "# Load environment\n",
    "load_dotenv()"
   ],
   "outputs": [
    {
     "data": {
      "text/plain": [
       "False"
      ]
     },
     "execution_count": 4,
     "metadata": {},
     "output_type": "execute_result"
    }
   ],
   "execution_count": 4
  },
  {
   "cell_type": "markdown",
   "metadata": {},
   "source": [
    "# Foursquare"
   ]
  },
  {
   "metadata": {
    "ExecuteTime": {
     "end_time": "2024-11-17T19:14:55.716788Z",
     "start_time": "2024-11-17T19:14:55.714476Z"
    }
   },
   "cell_type": "code",
   "source": [
    "fsq_api_key = os.getenv('FOURSQUARE_API_KEY')\n",
    "# Set FourSquare URL\n",
    "fsq_url = 'https://api.foursquare.com/v3/places/search'\n",
    "# Create dictionary for headers and add API KEY\n",
    "fsq_headers = {'Accept': 'application/json', 'Authorization': fsq_api_key}\n"
   ],
   "outputs": [],
   "execution_count": 12
  },
  {
   "cell_type": "markdown",
   "metadata": {},
   "source": "### Send a request to Foursquare with a small radius (1000m) for all the bike stations in your city of choice. "
  },
  {
   "metadata": {
    "ExecuteTime": {
     "end_time": "2024-11-17T19:14:58.024334Z",
     "start_time": "2024-11-17T19:14:58.021886Z"
    }
   },
   "cell_type": "code",
   "source": [
    "# Getting parameters for the api query string\n",
    "def get_fsq_params(lat, lon):\n",
    "    return {\n",
    "        'll': f'{lat},{lon}',\n",
    "        'radius': 1000,\n",
    "        'categories': ','.join([\n",
    "            '4d4b7105d754a06374d81259',  # Restaurant,\n",
    "            '4bf58dd8d48988d116941735',  # Bar,\n",
    "            '4bf58dd8d48988d1fa931735'  # Hotel\n",
    "        ]),\n",
    "        # 'limit': 10 # max 50\n",
    "        'fields': 'categories,distance,rating,price'\n",
    "    }"
   ],
   "outputs": [],
   "execution_count": 13
  },
  {
   "metadata": {
    "ExecuteTime": {
     "end_time": "2024-11-17T19:14:59.600549Z",
     "start_time": "2024-11-17T19:14:59.598357Z"
    }
   },
   "cell_type": "code",
   "source": [
    "# Send API requests\n",
    "def get_fsq_response(url, headers, params):\n",
    "    return requests.get(url, headers=headers, params=params)"
   ],
   "outputs": [],
   "execution_count": 14
  },
  {
   "cell_type": "markdown",
   "metadata": {},
   "source": "### Parse through the response to get the POI (such as restaurants, bars, etc) details you want (ratings, name, location, etc)"
  },
  {
   "cell_type": "code",
   "metadata": {
    "ExecuteTime": {
     "end_time": "2024-11-17T18:39:38.965010Z",
     "start_time": "2024-11-17T18:37:23.932287Z"
    }
   },
   "source": [
    "#FourSquare DataFrame\n",
    "fsq_df = pd.DataFrame()\n",
    "for i, station in city_bikes.head(1).iterrows():\n",
    "    # Set params\n",
    "    latitude, longitude = station['latitude'], station['longitude']\n",
    "    fsq_params = get_fsq_params(latitude, longitude)\n",
    "    # Get response\n",
    "    fsq_response = get_fsq_response(fsq_url, fsq_headers, fsq_params)\n",
    "    # Normalize response JSON to fit DataFrame\n",
    "    df = pd.json_normalize(\n",
    "        fsq_response.json(), record_path='results'\n",
    "    )\n",
    "    fsq_df = pd.concat([fsq_df, df], ignore_index=True)\n",
    "# Write the data to CSV - IDEALLY SHOULD APPEND  \n",
    "fsq_df.to_csv('../data/fsq_search_data.csv', sep=',', index=False)"
   ],
   "outputs": [],
   "execution_count": 480
  },
  {
   "cell_type": "markdown",
   "metadata": {},
   "source": "### Put your parsed results into a DataFrame"
  },
  {
   "cell_type": "code",
   "metadata": {
    "ExecuteTime": {
     "end_time": "2024-11-17T18:29:01.192271Z",
     "start_time": "2024-11-17T18:29:01.184487Z"
    }
   },
   "source": [
    "fsq_df = pd.read_csv('../data/fsq_search_data.csv')\n",
    "fsq_df.head()"
   ],
   "outputs": [
    {
     "data": {
      "text/plain": [
       "                                                                                                                                                                                                                                                                                                                                                                                                                                                                                                                                                                                                  categories  \\\n",
       "0                                                                                                                                                                                                                                     [{'id': 13003, 'name': 'Bar', 'short_name': 'Bar', 'plural_name': 'Bars', 'icon': {'prefix': 'https://ss3.4sqi.net/img/categories_v2/nightlife/pub_', 'suffix': '.png'}}, {'id': 13065, 'name': 'Restaurant', 'short_name': 'Restaurant', 'plural_name': 'Restaurants', 'icon': {'prefix': 'https://ss3.4sqi.net/img/categories_v2/food/default_', 'suffix': '.png'}}]   \n",
       "1  [{'id': 13035, 'name': 'Coffee Shop', 'short_name': 'Coffee Shop', 'plural_name': 'Coffee Shops', 'icon': {'prefix': 'https://ss3.4sqi.net/img/categories_v2/food/coffeeshop_', 'suffix': '.png'}}, {'id': 13046, 'name': 'Ice Cream Parlor', 'short_name': 'Ice Cream', 'plural_name': 'Ice Cream Parlors', 'icon': {'prefix': 'https://ss3.4sqi.net/img/categories_v2/food/icecream_', 'suffix': '.png'}}, {'id': 13065, 'name': 'Restaurant', 'short_name': 'Restaurant', 'plural_name': 'Restaurants', 'icon': {'prefix': 'https://ss3.4sqi.net/img/categories_v2/food/default_', 'suffix': '.png'}}]   \n",
       "2                                                                                                                                                                                                               [{'id': 13064, 'name': 'Pizzeria', 'short_name': 'Pizza', 'plural_name': 'Pizzerias', 'icon': {'prefix': 'https://ss3.4sqi.net/img/categories_v2/food/pizza_', 'suffix': '.png'}}, {'id': 13236, 'name': 'Italian Restaurant', 'short_name': 'Italian', 'plural_name': 'Italian Restaurants', 'icon': {'prefix': 'https://ss3.4sqi.net/img/categories_v2/food/italian_', 'suffix': '.png'}}]   \n",
       "3                                                                                                                                                                                                                                                                                                                                                                                                                                  [{'id': 13003, 'name': 'Bar', 'short_name': 'Bar', 'plural_name': 'Bars', 'icon': {'prefix': 'https://ss3.4sqi.net/img/categories_v2/nightlife/pub_', 'suffix': '.png'}}]   \n",
       "4                                                                                                                                                                                                                                                                                                                                                                                                         [{'id': 13276, 'name': 'Sushi Restaurant', 'short_name': 'Sushi', 'plural_name': 'Sushi Restaurants', 'icon': {'prefix': 'https://ss3.4sqi.net/img/categories_v2/food/sushi_', 'suffix': '.png'}}]   \n",
       "\n",
       "   distance  price  rating  \n",
       "0       569      2     8.8  \n",
       "1       665      2     9.1  \n",
       "2       765      2     9.0  \n",
       "3       847      2     8.8  \n",
       "4       913      3     8.8  "
      ],
      "text/html": [
       "<div>\n",
       "<style scoped>\n",
       "    .dataframe tbody tr th:only-of-type {\n",
       "        vertical-align: middle;\n",
       "    }\n",
       "\n",
       "    .dataframe tbody tr th {\n",
       "        vertical-align: top;\n",
       "    }\n",
       "\n",
       "    .dataframe thead th {\n",
       "        text-align: right;\n",
       "    }\n",
       "</style>\n",
       "<table border=\"1\" class=\"dataframe\">\n",
       "  <thead>\n",
       "    <tr style=\"text-align: right;\">\n",
       "      <th></th>\n",
       "      <th>categories</th>\n",
       "      <th>distance</th>\n",
       "      <th>price</th>\n",
       "      <th>rating</th>\n",
       "    </tr>\n",
       "  </thead>\n",
       "  <tbody>\n",
       "    <tr>\n",
       "      <th>0</th>\n",
       "      <td>[{'id': 13003, 'name': 'Bar', 'short_name': 'Bar', 'plural_name': 'Bars', 'icon': {'prefix': 'https://ss3.4sqi.net/img/categories_v2/nightlife/pub_', 'suffix': '.png'}}, {'id': 13065, 'name': 'Restaurant', 'short_name': 'Restaurant', 'plural_name': 'Restaurants', 'icon': {'prefix': 'https://ss3.4sqi.net/img/categories_v2/food/default_', 'suffix': '.png'}}]</td>\n",
       "      <td>569</td>\n",
       "      <td>2</td>\n",
       "      <td>8.8</td>\n",
       "    </tr>\n",
       "    <tr>\n",
       "      <th>1</th>\n",
       "      <td>[{'id': 13035, 'name': 'Coffee Shop', 'short_name': 'Coffee Shop', 'plural_name': 'Coffee Shops', 'icon': {'prefix': 'https://ss3.4sqi.net/img/categories_v2/food/coffeeshop_', 'suffix': '.png'}}, {'id': 13046, 'name': 'Ice Cream Parlor', 'short_name': 'Ice Cream', 'plural_name': 'Ice Cream Parlors', 'icon': {'prefix': 'https://ss3.4sqi.net/img/categories_v2/food/icecream_', 'suffix': '.png'}}, {'id': 13065, 'name': 'Restaurant', 'short_name': 'Restaurant', 'plural_name': 'Restaurants', 'icon': {'prefix': 'https://ss3.4sqi.net/img/categories_v2/food/default_', 'suffix': '.png'}}]</td>\n",
       "      <td>665</td>\n",
       "      <td>2</td>\n",
       "      <td>9.1</td>\n",
       "    </tr>\n",
       "    <tr>\n",
       "      <th>2</th>\n",
       "      <td>[{'id': 13064, 'name': 'Pizzeria', 'short_name': 'Pizza', 'plural_name': 'Pizzerias', 'icon': {'prefix': 'https://ss3.4sqi.net/img/categories_v2/food/pizza_', 'suffix': '.png'}}, {'id': 13236, 'name': 'Italian Restaurant', 'short_name': 'Italian', 'plural_name': 'Italian Restaurants', 'icon': {'prefix': 'https://ss3.4sqi.net/img/categories_v2/food/italian_', 'suffix': '.png'}}]</td>\n",
       "      <td>765</td>\n",
       "      <td>2</td>\n",
       "      <td>9.0</td>\n",
       "    </tr>\n",
       "    <tr>\n",
       "      <th>3</th>\n",
       "      <td>[{'id': 13003, 'name': 'Bar', 'short_name': 'Bar', 'plural_name': 'Bars', 'icon': {'prefix': 'https://ss3.4sqi.net/img/categories_v2/nightlife/pub_', 'suffix': '.png'}}]</td>\n",
       "      <td>847</td>\n",
       "      <td>2</td>\n",
       "      <td>8.8</td>\n",
       "    </tr>\n",
       "    <tr>\n",
       "      <th>4</th>\n",
       "      <td>[{'id': 13276, 'name': 'Sushi Restaurant', 'short_name': 'Sushi', 'plural_name': 'Sushi Restaurants', 'icon': {'prefix': 'https://ss3.4sqi.net/img/categories_v2/food/sushi_', 'suffix': '.png'}}]</td>\n",
       "      <td>913</td>\n",
       "      <td>3</td>\n",
       "      <td>8.8</td>\n",
       "    </tr>\n",
       "  </tbody>\n",
       "</table>\n",
       "</div>"
      ]
     },
     "execution_count": 465,
     "metadata": {},
     "output_type": "execute_result"
    }
   ],
   "execution_count": 465
  },
  {
   "cell_type": "markdown",
   "metadata": {},
   "source": [
    "# Yelp"
   ]
  },
  {
   "metadata": {
    "ExecuteTime": {
     "end_time": "2024-11-17T19:15:11.500519Z",
     "start_time": "2024-11-17T19:15:11.498098Z"
    }
   },
   "cell_type": "code",
   "source": [
    "# Get Yelp API Key\n",
    "yelp_api_key = os.environ['YELP_API_KEY']\n",
    "# Set Yelp URL\n",
    "yelp_url = 'https://api.yelp.com/v3/businesses/search'\n",
    "# Create dictionary for headers and add API KEY\n",
    "yelp_headers = {\n",
    "    'accept': 'application/json',\n",
    "    'Authorization': f'Bearer {yelp_api_key}'\n",
    "}"
   ],
   "outputs": [],
   "execution_count": 15
  },
  {
   "cell_type": "markdown",
   "metadata": {},
   "source": "### Send a request to Yelp with a small radius (1000m) for all the bike stations in your city of choice. "
  },
  {
   "metadata": {
    "ExecuteTime": {
     "end_time": "2024-11-17T19:15:17.323828Z",
     "start_time": "2024-11-17T19:15:17.321654Z"
    }
   },
   "cell_type": "code",
   "source": [
    "# Getting parameters for the api query string\n",
    "def get_yelp_params(lat, lon):\n",
    "    return {\n",
    "        'latitude': lat,\n",
    "        'longitude': lon,\n",
    "        'radius': 1000,\n",
    "        'limit': 10,\n",
    "        'categories': 'Bars,Restaurants,Hotels'\n",
    "    }"
   ],
   "outputs": [],
   "execution_count": 16
  },
  {
   "metadata": {
    "ExecuteTime": {
     "end_time": "2024-11-17T19:15:20.088229Z",
     "start_time": "2024-11-17T19:15:20.085900Z"
    }
   },
   "cell_type": "code",
   "source": [
    "# Send API requests\n",
    "def get_yelp_response(url, headers, params):\n",
    "    return requests.get(url, headers=headers, params=params)"
   ],
   "outputs": [],
   "execution_count": 17
  },
  {
   "cell_type": "markdown",
   "metadata": {},
   "source": "### Parse through the response to get the POI (such as restaurants, bars, etc) details you want (ratings, name, location, etc)"
  },
  {
   "cell_type": "code",
   "metadata": {},
   "source": [
    "#Yelp DataFrame\n",
    "yelp_df = pd.DataFrame()\n",
    "\n",
    "for i, station in city_bikes.head(1).iterrows():\n",
    "    # Set params\n",
    "    latitude, longitude = station['latitude'], station['longitude']\n",
    "    yelp_params = get_yelp_params(latitude, longitude)\n",
    "    # Get response\n",
    "    yelp_response = get_yelp_response(yelp_url, yelp_headers, yelp_params)\n",
    "    # Normalize response JSON to fit DataFrame\n",
    "    df = pd.json_normalize(\n",
    "        yelp_response.json(), record_path='businesses'\n",
    "    )\n",
    "    yelp_df = pd.concat([yelp_df, df], ignore_index=True)\n",
    "\n",
    "# Write the data to CSV - IDEALLY SHOULD APPEND\n",
    "yelp_df.to_csv('../data/yelp_search_data.csv', sep=',', index=False)"
   ],
   "outputs": [],
   "execution_count": null
  },
  {
   "cell_type": "markdown",
   "metadata": {},
   "source": "### Put your parsed results into a DataFrame"
  },
  {
   "metadata": {},
   "cell_type": "markdown",
   "source": "## FourSquare Data "
  },
  {
   "metadata": {
    "ExecuteTime": {
     "end_time": "2024-11-17T19:32:26.730900Z",
     "start_time": "2024-11-17T19:32:26.335340Z"
    }
   },
   "cell_type": "code",
   "source": [
    "#Read from CSV\n",
    "fsq_df = pd.read_csv('../data/fsq_search_data.csv')\n",
    "# Safely evaluate the string as a Python dictionary\n",
    "fsq_df['categories'] = fsq_df['categories'].apply(ast.literal_eval)\n",
    "# Explode the data by categories\n",
    "fsq_df = fsq_df.explode('categories')\n",
    "# Explode the dictionary\n",
    "categories = fsq_df['categories'].apply(pd.Series)\n",
    "# Rename the categories columns\n",
    "categories.columns = ['category.id', 'category.short', 'category.name', 'category.plural', 'category.img_url']\n",
    "# categories.head()\n",
    "# Replace categories column by columns\n",
    "fsq_df = pd.concat([fsq_df.drop(columns=['categories']), categories], axis=1)\n",
    "# print(fsq_df.head(1))\n",
    "# Choose columns for EDA\n",
    "fsq_df = fsq_df[['price', 'rating', 'distance', 'category.plural', 'category.name']]\n",
    "fsq_df.head()"
   ],
   "outputs": [
    {
     "data": {
      "text/plain": [
       "   price  rating  distance    category.plural category.name\n",
       "0    2.0     8.8       569               Bars           Bar\n",
       "0    2.0     8.8       569        Restaurants    Restaurant\n",
       "1    2.0     9.1       665       Coffee Shops   Coffee Shop\n",
       "1    2.0     9.1       665  Ice Cream Parlors     Ice Cream\n",
       "1    2.0     9.1       665        Restaurants    Restaurant"
      ],
      "text/html": [
       "<div>\n",
       "<style scoped>\n",
       "    .dataframe tbody tr th:only-of-type {\n",
       "        vertical-align: middle;\n",
       "    }\n",
       "\n",
       "    .dataframe tbody tr th {\n",
       "        vertical-align: top;\n",
       "    }\n",
       "\n",
       "    .dataframe thead th {\n",
       "        text-align: right;\n",
       "    }\n",
       "</style>\n",
       "<table border=\"1\" class=\"dataframe\">\n",
       "  <thead>\n",
       "    <tr style=\"text-align: right;\">\n",
       "      <th></th>\n",
       "      <th>price</th>\n",
       "      <th>rating</th>\n",
       "      <th>distance</th>\n",
       "      <th>category.plural</th>\n",
       "      <th>category.name</th>\n",
       "    </tr>\n",
       "  </thead>\n",
       "  <tbody>\n",
       "    <tr>\n",
       "      <th>0</th>\n",
       "      <td>2.0</td>\n",
       "      <td>8.8</td>\n",
       "      <td>569</td>\n",
       "      <td>Bars</td>\n",
       "      <td>Bar</td>\n",
       "    </tr>\n",
       "    <tr>\n",
       "      <th>0</th>\n",
       "      <td>2.0</td>\n",
       "      <td>8.8</td>\n",
       "      <td>569</td>\n",
       "      <td>Restaurants</td>\n",
       "      <td>Restaurant</td>\n",
       "    </tr>\n",
       "    <tr>\n",
       "      <th>1</th>\n",
       "      <td>2.0</td>\n",
       "      <td>9.1</td>\n",
       "      <td>665</td>\n",
       "      <td>Coffee Shops</td>\n",
       "      <td>Coffee Shop</td>\n",
       "    </tr>\n",
       "    <tr>\n",
       "      <th>1</th>\n",
       "      <td>2.0</td>\n",
       "      <td>9.1</td>\n",
       "      <td>665</td>\n",
       "      <td>Ice Cream Parlors</td>\n",
       "      <td>Ice Cream</td>\n",
       "    </tr>\n",
       "    <tr>\n",
       "      <th>1</th>\n",
       "      <td>2.0</td>\n",
       "      <td>9.1</td>\n",
       "      <td>665</td>\n",
       "      <td>Restaurants</td>\n",
       "      <td>Restaurant</td>\n",
       "    </tr>\n",
       "  </tbody>\n",
       "</table>\n",
       "</div>"
      ]
     },
     "execution_count": 35,
     "metadata": {},
     "output_type": "execute_result"
    }
   ],
   "execution_count": 35
  },
  {
   "metadata": {},
   "cell_type": "markdown",
   "source": "## YELP Data"
  },
  {
   "metadata": {
    "ExecuteTime": {
     "end_time": "2024-11-17T19:25:08.608605Z",
     "start_time": "2024-11-17T19:25:08.598373Z"
    }
   },
   "cell_type": "code",
   "source": [
    "#Read from CSV\n",
    "yelp_df = pd.read_csv('../data/yelp_search_data.csv')\n",
    "# Safely evaluate the string as a Python dictionary\n",
    "yelp_df['categories'] = yelp_df['categories'].apply(ast.literal_eval)\n",
    "# Explode the data by categories\n",
    "yelp_df = yelp_df.explode('categories')\n",
    "# Explode the dictionary\n",
    "categories = yelp_df['categories'].apply(pd.Series)\n",
    "# Rename the categories columns\n",
    "categories.columns = ['category.alias', 'category.title']\n",
    "# Replace categories column by columns\n",
    "yelp_df = pd.concat([yelp_df.drop(columns=['categories']), categories], axis=1)\n",
    "# Choose columns for EDA\n",
    "yelp_df = yelp_df[['name', 'review_count', 'rating', 'price', 'distance', 'business_hours', 'category.title']]\n",
    "yelp_df.head()"
   ],
   "outputs": [
    {
     "data": {
      "text/plain": [
       "                name  review_count  rating price     distance  \\\n",
       "0    Pub Zielona Gęś            14     3.3    $$   123.908924   \n",
       "1  Ministerstwo Kawy            51     4.2     $  1109.084599   \n",
       "1  Ministerstwo Kawy            51     4.2     $  1109.084599   \n",
       "2       Pardon To Tu            28     4.4    $$   850.986161   \n",
       "2       Pardon To Tu            28     4.4    $$   850.986161   \n",
       "\n",
       "                                      business_hours category.title  \n",
       "0  [{'open': [{'is_overnight': True, 'start': '09...    Sports Bars  \n",
       "1  [{'open': [{'is_overnight': False, 'start': '0...          Cafes  \n",
       "1  [{'open': [{'is_overnight': False, 'start': '0...   Coffee & Tea  \n",
       "2  [{'open': [{'is_overnight': False, 'start': '0...  Vinyl Records  \n",
       "2  [{'open': [{'is_overnight': False, 'start': '0...     Bookstores  "
      ],
      "text/html": [
       "<div>\n",
       "<style scoped>\n",
       "    .dataframe tbody tr th:only-of-type {\n",
       "        vertical-align: middle;\n",
       "    }\n",
       "\n",
       "    .dataframe tbody tr th {\n",
       "        vertical-align: top;\n",
       "    }\n",
       "\n",
       "    .dataframe thead th {\n",
       "        text-align: right;\n",
       "    }\n",
       "</style>\n",
       "<table border=\"1\" class=\"dataframe\">\n",
       "  <thead>\n",
       "    <tr style=\"text-align: right;\">\n",
       "      <th></th>\n",
       "      <th>name</th>\n",
       "      <th>review_count</th>\n",
       "      <th>rating</th>\n",
       "      <th>price</th>\n",
       "      <th>distance</th>\n",
       "      <th>business_hours</th>\n",
       "      <th>category.title</th>\n",
       "    </tr>\n",
       "  </thead>\n",
       "  <tbody>\n",
       "    <tr>\n",
       "      <th>0</th>\n",
       "      <td>Pub Zielona Gęś</td>\n",
       "      <td>14</td>\n",
       "      <td>3.3</td>\n",
       "      <td>$$</td>\n",
       "      <td>123.908924</td>\n",
       "      <td>[{'open': [{'is_overnight': True, 'start': '09...</td>\n",
       "      <td>Sports Bars</td>\n",
       "    </tr>\n",
       "    <tr>\n",
       "      <th>1</th>\n",
       "      <td>Ministerstwo Kawy</td>\n",
       "      <td>51</td>\n",
       "      <td>4.2</td>\n",
       "      <td>$</td>\n",
       "      <td>1109.084599</td>\n",
       "      <td>[{'open': [{'is_overnight': False, 'start': '0...</td>\n",
       "      <td>Cafes</td>\n",
       "    </tr>\n",
       "    <tr>\n",
       "      <th>1</th>\n",
       "      <td>Ministerstwo Kawy</td>\n",
       "      <td>51</td>\n",
       "      <td>4.2</td>\n",
       "      <td>$</td>\n",
       "      <td>1109.084599</td>\n",
       "      <td>[{'open': [{'is_overnight': False, 'start': '0...</td>\n",
       "      <td>Coffee &amp; Tea</td>\n",
       "    </tr>\n",
       "    <tr>\n",
       "      <th>2</th>\n",
       "      <td>Pardon To Tu</td>\n",
       "      <td>28</td>\n",
       "      <td>4.4</td>\n",
       "      <td>$$</td>\n",
       "      <td>850.986161</td>\n",
       "      <td>[{'open': [{'is_overnight': False, 'start': '0...</td>\n",
       "      <td>Vinyl Records</td>\n",
       "    </tr>\n",
       "    <tr>\n",
       "      <th>2</th>\n",
       "      <td>Pardon To Tu</td>\n",
       "      <td>28</td>\n",
       "      <td>4.4</td>\n",
       "      <td>$$</td>\n",
       "      <td>850.986161</td>\n",
       "      <td>[{'open': [{'is_overnight': False, 'start': '0...</td>\n",
       "      <td>Bookstores</td>\n",
       "    </tr>\n",
       "  </tbody>\n",
       "</table>\n",
       "</div>"
      ]
     },
     "execution_count": 22,
     "metadata": {},
     "output_type": "execute_result"
    }
   ],
   "execution_count": 22
  },
  {
   "cell_type": "markdown",
   "metadata": {},
   "source": [
    "# Comparing Results"
   ]
  },
  {
   "cell_type": "markdown",
   "metadata": {},
   "source": "### Which API provided you with more complete data? Provide an explanation? "
  },
  {
   "metadata": {},
   "cell_type": "markdown",
   "source": "#### Each APIs have different approach to handle the data. The outcome of a query depends on various parameters. I wish I could test all the possible options"
  },
  {
   "cell_type": "markdown",
   "metadata": {},
   "source": "### Get the top 10 restaurants according to their rating"
  },
  {
   "metadata": {},
   "cell_type": "markdown",
   "source": "### FourSquare Top 10 by ranking "
  },
  {
   "metadata": {
    "ExecuteTime": {
     "end_time": "2024-11-17T19:32:43.631715Z",
     "start_time": "2024-11-17T19:32:43.624329Z"
    }
   },
   "cell_type": "code",
   "source": [
    "# Remove duplicate rows\n",
    "df = fsq_df.drop_duplicates().copy()\n",
    "# Sort data by rating\n",
    "df.sort_values(by='rating', ascending=False, inplace=True)\n",
    "# Display top 10\n",
    "df.head(10)"
   ],
   "outputs": [
    {
     "data": {
      "text/plain": [
       "      price  rating  distance category.plural category.name\n",
       "2162    2.0     9.3       982            Bars           Bar\n",
       "492     2.0     9.3       874            Bars           Bar\n",
       "1101    2.0     9.3       961            Bars           Bar\n",
       "2651    2.0     9.3       764            Bars           Bar\n",
       "1921    2.0     9.3       941            Bars           Bar\n",
       "3068    2.0     9.3       369            Bars           Bar\n",
       "608     2.0     9.3       107            Bars           Bar\n",
       "3020    2.0     9.3       428            Bars           Bar\n",
       "3000    2.0     9.3       671            Bars           Bar\n",
       "1941    2.0     9.3       582            Bars           Bar"
      ],
      "text/html": [
       "<div>\n",
       "<style scoped>\n",
       "    .dataframe tbody tr th:only-of-type {\n",
       "        vertical-align: middle;\n",
       "    }\n",
       "\n",
       "    .dataframe tbody tr th {\n",
       "        vertical-align: top;\n",
       "    }\n",
       "\n",
       "    .dataframe thead th {\n",
       "        text-align: right;\n",
       "    }\n",
       "</style>\n",
       "<table border=\"1\" class=\"dataframe\">\n",
       "  <thead>\n",
       "    <tr style=\"text-align: right;\">\n",
       "      <th></th>\n",
       "      <th>price</th>\n",
       "      <th>rating</th>\n",
       "      <th>distance</th>\n",
       "      <th>category.plural</th>\n",
       "      <th>category.name</th>\n",
       "    </tr>\n",
       "  </thead>\n",
       "  <tbody>\n",
       "    <tr>\n",
       "      <th>2162</th>\n",
       "      <td>2.0</td>\n",
       "      <td>9.3</td>\n",
       "      <td>982</td>\n",
       "      <td>Bars</td>\n",
       "      <td>Bar</td>\n",
       "    </tr>\n",
       "    <tr>\n",
       "      <th>492</th>\n",
       "      <td>2.0</td>\n",
       "      <td>9.3</td>\n",
       "      <td>874</td>\n",
       "      <td>Bars</td>\n",
       "      <td>Bar</td>\n",
       "    </tr>\n",
       "    <tr>\n",
       "      <th>1101</th>\n",
       "      <td>2.0</td>\n",
       "      <td>9.3</td>\n",
       "      <td>961</td>\n",
       "      <td>Bars</td>\n",
       "      <td>Bar</td>\n",
       "    </tr>\n",
       "    <tr>\n",
       "      <th>2651</th>\n",
       "      <td>2.0</td>\n",
       "      <td>9.3</td>\n",
       "      <td>764</td>\n",
       "      <td>Bars</td>\n",
       "      <td>Bar</td>\n",
       "    </tr>\n",
       "    <tr>\n",
       "      <th>1921</th>\n",
       "      <td>2.0</td>\n",
       "      <td>9.3</td>\n",
       "      <td>941</td>\n",
       "      <td>Bars</td>\n",
       "      <td>Bar</td>\n",
       "    </tr>\n",
       "    <tr>\n",
       "      <th>3068</th>\n",
       "      <td>2.0</td>\n",
       "      <td>9.3</td>\n",
       "      <td>369</td>\n",
       "      <td>Bars</td>\n",
       "      <td>Bar</td>\n",
       "    </tr>\n",
       "    <tr>\n",
       "      <th>608</th>\n",
       "      <td>2.0</td>\n",
       "      <td>9.3</td>\n",
       "      <td>107</td>\n",
       "      <td>Bars</td>\n",
       "      <td>Bar</td>\n",
       "    </tr>\n",
       "    <tr>\n",
       "      <th>3020</th>\n",
       "      <td>2.0</td>\n",
       "      <td>9.3</td>\n",
       "      <td>428</td>\n",
       "      <td>Bars</td>\n",
       "      <td>Bar</td>\n",
       "    </tr>\n",
       "    <tr>\n",
       "      <th>3000</th>\n",
       "      <td>2.0</td>\n",
       "      <td>9.3</td>\n",
       "      <td>671</td>\n",
       "      <td>Bars</td>\n",
       "      <td>Bar</td>\n",
       "    </tr>\n",
       "    <tr>\n",
       "      <th>1941</th>\n",
       "      <td>2.0</td>\n",
       "      <td>9.3</td>\n",
       "      <td>582</td>\n",
       "      <td>Bars</td>\n",
       "      <td>Bar</td>\n",
       "    </tr>\n",
       "  </tbody>\n",
       "</table>\n",
       "</div>"
      ]
     },
     "execution_count": 36,
     "metadata": {},
     "output_type": "execute_result"
    }
   ],
   "execution_count": 36
  },
  {
   "metadata": {},
   "cell_type": "markdown",
   "source": "### YELP Top 10 by ranking"
  },
  {
   "metadata": {
    "ExecuteTime": {
     "end_time": "2024-11-17T19:33:50.693085Z",
     "start_time": "2024-11-17T19:33:50.685429Z"
    }
   },
   "cell_type": "code",
   "source": [
    "# Remove duplicate rows\n",
    "df = yelp_df.drop_duplicates().copy()\n",
    "# Sort data by rating\n",
    "df.sort_values(by='rating', ascending=False, inplace=True)\n",
    "# Display top 10\n",
    "df.head(10)"
   ],
   "outputs": [
    {
     "data": {
      "text/plain": [
       "                name  review_count  rating price     distance  \\\n",
       "3       Ciao a Tutti            32     4.7    $$   771.374846   \n",
       "3       Ciao a Tutti            32     4.7    $$   771.374846   \n",
       "7   Green Caffè Nero            11     4.6    $$   945.172178   \n",
       "2       Pardon To Tu            28     4.4    $$   850.986161   \n",
       "2       Pardon To Tu            28     4.4    $$   850.986161   \n",
       "2       Pardon To Tu            28     4.4    $$   850.986161   \n",
       "5         Krowarzywa            20     4.3     $  1124.132272   \n",
       "5         Krowarzywa            20     4.3     $  1124.132272   \n",
       "1  Ministerstwo Kawy            51     4.2     $  1109.084599   \n",
       "1  Ministerstwo Kawy            51     4.2     $  1109.084599   \n",
       "\n",
       "                                      business_hours category.title  \n",
       "3  [{'open': [{'is_overnight': False, 'start': '1...        Italian  \n",
       "3  [{'open': [{'is_overnight': False, 'start': '1...          Pizza  \n",
       "7  [{'open': [{'is_overnight': False, 'start': '0...          Cafes  \n",
       "2  [{'open': [{'is_overnight': False, 'start': '0...  Vinyl Records  \n",
       "2  [{'open': [{'is_overnight': False, 'start': '0...     Bookstores  \n",
       "2  [{'open': [{'is_overnight': False, 'start': '0...           Pubs  \n",
       "5  [{'open': [{'is_overnight': False, 'start': '1...          Vegan  \n",
       "5  [{'open': [{'is_overnight': False, 'start': '1...        Burgers  \n",
       "1  [{'open': [{'is_overnight': False, 'start': '0...          Cafes  \n",
       "1  [{'open': [{'is_overnight': False, 'start': '0...   Coffee & Tea  "
      ],
      "text/html": [
       "<div>\n",
       "<style scoped>\n",
       "    .dataframe tbody tr th:only-of-type {\n",
       "        vertical-align: middle;\n",
       "    }\n",
       "\n",
       "    .dataframe tbody tr th {\n",
       "        vertical-align: top;\n",
       "    }\n",
       "\n",
       "    .dataframe thead th {\n",
       "        text-align: right;\n",
       "    }\n",
       "</style>\n",
       "<table border=\"1\" class=\"dataframe\">\n",
       "  <thead>\n",
       "    <tr style=\"text-align: right;\">\n",
       "      <th></th>\n",
       "      <th>name</th>\n",
       "      <th>review_count</th>\n",
       "      <th>rating</th>\n",
       "      <th>price</th>\n",
       "      <th>distance</th>\n",
       "      <th>business_hours</th>\n",
       "      <th>category.title</th>\n",
       "    </tr>\n",
       "  </thead>\n",
       "  <tbody>\n",
       "    <tr>\n",
       "      <th>3</th>\n",
       "      <td>Ciao a Tutti</td>\n",
       "      <td>32</td>\n",
       "      <td>4.7</td>\n",
       "      <td>$$</td>\n",
       "      <td>771.374846</td>\n",
       "      <td>[{'open': [{'is_overnight': False, 'start': '1...</td>\n",
       "      <td>Italian</td>\n",
       "    </tr>\n",
       "    <tr>\n",
       "      <th>3</th>\n",
       "      <td>Ciao a Tutti</td>\n",
       "      <td>32</td>\n",
       "      <td>4.7</td>\n",
       "      <td>$$</td>\n",
       "      <td>771.374846</td>\n",
       "      <td>[{'open': [{'is_overnight': False, 'start': '1...</td>\n",
       "      <td>Pizza</td>\n",
       "    </tr>\n",
       "    <tr>\n",
       "      <th>7</th>\n",
       "      <td>Green Caffè Nero</td>\n",
       "      <td>11</td>\n",
       "      <td>4.6</td>\n",
       "      <td>$$</td>\n",
       "      <td>945.172178</td>\n",
       "      <td>[{'open': [{'is_overnight': False, 'start': '0...</td>\n",
       "      <td>Cafes</td>\n",
       "    </tr>\n",
       "    <tr>\n",
       "      <th>2</th>\n",
       "      <td>Pardon To Tu</td>\n",
       "      <td>28</td>\n",
       "      <td>4.4</td>\n",
       "      <td>$$</td>\n",
       "      <td>850.986161</td>\n",
       "      <td>[{'open': [{'is_overnight': False, 'start': '0...</td>\n",
       "      <td>Vinyl Records</td>\n",
       "    </tr>\n",
       "    <tr>\n",
       "      <th>2</th>\n",
       "      <td>Pardon To Tu</td>\n",
       "      <td>28</td>\n",
       "      <td>4.4</td>\n",
       "      <td>$$</td>\n",
       "      <td>850.986161</td>\n",
       "      <td>[{'open': [{'is_overnight': False, 'start': '0...</td>\n",
       "      <td>Bookstores</td>\n",
       "    </tr>\n",
       "    <tr>\n",
       "      <th>2</th>\n",
       "      <td>Pardon To Tu</td>\n",
       "      <td>28</td>\n",
       "      <td>4.4</td>\n",
       "      <td>$$</td>\n",
       "      <td>850.986161</td>\n",
       "      <td>[{'open': [{'is_overnight': False, 'start': '0...</td>\n",
       "      <td>Pubs</td>\n",
       "    </tr>\n",
       "    <tr>\n",
       "      <th>5</th>\n",
       "      <td>Krowarzywa</td>\n",
       "      <td>20</td>\n",
       "      <td>4.3</td>\n",
       "      <td>$</td>\n",
       "      <td>1124.132272</td>\n",
       "      <td>[{'open': [{'is_overnight': False, 'start': '1...</td>\n",
       "      <td>Vegan</td>\n",
       "    </tr>\n",
       "    <tr>\n",
       "      <th>5</th>\n",
       "      <td>Krowarzywa</td>\n",
       "      <td>20</td>\n",
       "      <td>4.3</td>\n",
       "      <td>$</td>\n",
       "      <td>1124.132272</td>\n",
       "      <td>[{'open': [{'is_overnight': False, 'start': '1...</td>\n",
       "      <td>Burgers</td>\n",
       "    </tr>\n",
       "    <tr>\n",
       "      <th>1</th>\n",
       "      <td>Ministerstwo Kawy</td>\n",
       "      <td>51</td>\n",
       "      <td>4.2</td>\n",
       "      <td>$</td>\n",
       "      <td>1109.084599</td>\n",
       "      <td>[{'open': [{'is_overnight': False, 'start': '0...</td>\n",
       "      <td>Cafes</td>\n",
       "    </tr>\n",
       "    <tr>\n",
       "      <th>1</th>\n",
       "      <td>Ministerstwo Kawy</td>\n",
       "      <td>51</td>\n",
       "      <td>4.2</td>\n",
       "      <td>$</td>\n",
       "      <td>1109.084599</td>\n",
       "      <td>[{'open': [{'is_overnight': False, 'start': '0...</td>\n",
       "      <td>Coffee &amp; Tea</td>\n",
       "    </tr>\n",
       "  </tbody>\n",
       "</table>\n",
       "</div>"
      ]
     },
     "execution_count": 37,
     "metadata": {},
     "output_type": "execute_result"
    }
   ],
   "execution_count": 37
  },
  {
   "metadata": {},
   "cell_type": "markdown",
   "source": "## Testing Area"
  },
  {
   "cell_type": "code",
   "metadata": {
    "ExecuteTime": {
     "end_time": "2024-11-17T18:29:03.179912Z",
     "start_time": "2024-11-17T18:29:03.177996Z"
    }
   },
   "source": [
    "# # Connect to SQLite database (or create it if it doesn't exist)\n",
    "# conn = sqlite3.connect('API.db')\n",
    "# \n",
    "# # Save DataFrame to SQLite table\n",
    "# df.to_sql('yelp', conn, if_exists='replace', index=False)\n",
    "# \n",
    "# # Close the connection\n",
    "# conn.close()\n",
    "# \n",
    "# print('Data saved to SQLite database!')"
   ],
   "outputs": [],
   "execution_count": 473
  },
  {
   "metadata": {
    "ExecuteTime": {
     "end_time": "2024-11-17T18:29:03.193949Z",
     "start_time": "2024-11-17T18:29:03.192035Z"
    }
   },
   "cell_type": "code",
   "source": [
    "# Open and read the JSON file\n",
    "# with open('fsq_search_response.json', 'r') as file:\n",
    "#     data = json.load(file)\n",
    "# data = pd.read_json('fsq_search_columns.json')\n",
    "# data = data.explode('categories').reset_index(drop=True)\n",
    "# data['categories'] = data['categories'].apply(lambda x: x['short_name'])\n",
    "# data.drop([\n",
    "#     'geocodes.drop_off.latitude',\n",
    "#     'geocodes.drop_off.longitude',\n",
    "#     'geocodes.roof.latitude',\n",
    "#     'geocodes.roof.longitude',\n",
    "# ], axis=1, inplace=True)\n",
    "# data"
   ],
   "outputs": [],
   "execution_count": 474
  }
 ],
 "metadata": {
  "kernelspec": {
   "display_name": "Python 3",
   "language": "python",
   "name": "python3"
  },
  "language_info": {
   "codemirror_mode": {
    "name": "ipython",
    "version": 3
   },
   "file_extension": ".py",
   "mimetype": "text/x-python",
   "name": "python",
   "nbconvert_exporter": "python",
   "pygments_lexer": "ipython3",
   "version": "3.8.5"
  }
 },
 "nbformat": 4,
 "nbformat_minor": 4
}
