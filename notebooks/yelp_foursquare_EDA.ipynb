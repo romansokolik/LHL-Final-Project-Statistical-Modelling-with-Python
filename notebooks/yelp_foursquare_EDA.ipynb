{
 "cells": [
  {
   "cell_type": "code",
   "metadata": {
    "ExecuteTime": {
     "end_time": "2024-11-18T21:11:34.445625Z",
     "start_time": "2024-11-18T21:11:34.443356Z"
    }
   },
   "source": [
    "import os\n",
    "from dotenv import load_dotenv\n",
    "import requests\n",
    "import pandas as pd\n",
    "import ast"
   ],
   "outputs": [],
   "execution_count": 77
  },
  {
   "metadata": {},
   "cell_type": "markdown",
   "source": "## City Bikes Data"
  },
  {
   "metadata": {
    "ExecuteTime": {
     "end_time": "2024-11-18T21:11:38.315512Z",
     "start_time": "2024-11-18T21:11:38.310337Z"
    }
   },
   "cell_type": "code",
   "source": [
    "# Get all networks from CSV file\n",
    "city_bikes = pd.read_csv('../data/city_bikes.csv')\n",
    "# Print the coordinates for the networks\n",
    "for i, station in city_bikes.head(1).iterrows():\n",
    "    print('latitude :', station['latitude'], 'longitude :', station['longitude'])"
   ],
   "outputs": [
    {
     "name": "stdout",
     "output_type": "stream",
     "text": [
      "latitude : 53.033019 longitude : 18.599727\n"
     ]
    }
   ],
   "execution_count": 78
  },
  {
   "metadata": {
    "ExecuteTime": {
     "end_time": "2024-11-18T21:11:40.908392Z",
     "start_time": "2024-11-18T21:11:40.904716Z"
    }
   },
   "cell_type": "code",
   "source": [
    "# Load environment\n",
    "load_dotenv()"
   ],
   "outputs": [
    {
     "data": {
      "text/plain": [
       "False"
      ]
     },
     "execution_count": 79,
     "metadata": {},
     "output_type": "execute_result"
    }
   ],
   "execution_count": 79
  },
  {
   "cell_type": "markdown",
   "metadata": {},
   "source": [
    "# Foursquare"
   ]
  },
  {
   "metadata": {
    "ExecuteTime": {
     "end_time": "2024-11-17T21:23:07.596322Z",
     "start_time": "2024-11-17T21:23:07.594349Z"
    }
   },
   "cell_type": "code",
   "source": [
    "fsq_api_key = os.getenv('FOURSQUARE_API_KEY')\n",
    "# Set FourSquare URL\n",
    "fsq_url = 'https://api.foursquare.com/v3/places/search'\n",
    "# Create dictionary for headers and add API KEY\n",
    "fsq_headers = {'Accept': 'application/json', 'Authorization': fsq_api_key}\n"
   ],
   "outputs": [],
   "execution_count": 49
  },
  {
   "cell_type": "markdown",
   "metadata": {},
   "source": "### Send a request to Foursquare with a small radius (1000m) for all the bike stations in your city of choice. "
  },
  {
   "metadata": {
    "ExecuteTime": {
     "end_time": "2024-11-17T21:23:07.610071Z",
     "start_time": "2024-11-17T21:23:07.608039Z"
    }
   },
   "cell_type": "code",
   "source": [
    "# Getting parameters for the api query string\n",
    "def get_fsq_params(lat, lon):\n",
    "    return {\n",
    "        'll': f'{lat},{lon}',\n",
    "        'radius': 1000,\n",
    "        'categories': ','.join([\n",
    "            '4d4b7105d754a06374d81259',  # Restaurant,\n",
    "            '4bf58dd8d48988d116941735',  # Bar,\n",
    "            '4bf58dd8d48988d1fa931735'  # Hotel\n",
    "        ]),\n",
    "        # 'limit': 10 # max 50\n",
    "        'fields': 'name,categories,distance,rating,price'\n",
    "    }"
   ],
   "outputs": [],
   "execution_count": 50
  },
  {
   "metadata": {
    "ExecuteTime": {
     "end_time": "2024-11-17T21:23:07.620032Z",
     "start_time": "2024-11-17T21:23:07.618184Z"
    }
   },
   "cell_type": "code",
   "source": [
    "# Send API requests\n",
    "def get_fsq_response(url, headers, params):\n",
    "    return requests.get(url, headers=headers, params=params)"
   ],
   "outputs": [],
   "execution_count": 51
  },
  {
   "cell_type": "markdown",
   "metadata": {},
   "source": "### Parse through the response to get the POI (such as restaurants, bars, etc) details you want (ratings, name, location, etc)"
  },
  {
   "cell_type": "code",
   "metadata": {
    "ExecuteTime": {
     "end_time": "2024-11-17T21:24:03.857722Z",
     "start_time": "2024-11-17T21:23:42.933523Z"
    }
   },
   "source": [
    "#FourSquare DataFrame\n",
    "fsq_df = pd.DataFrame()\n",
    "# Loop once to save on api usage\n",
    "for i, station in city_bikes.head(1).iterrows():\n",
    "    # Set params\n",
    "    latitude, longitude = station['latitude'], station['longitude']\n",
    "    fsq_params = get_fsq_params(latitude, longitude)\n",
    "    # Get response\n",
    "    fsq_response = get_fsq_response(fsq_url, fsq_headers, fsq_params)\n",
    "    # Normalize response JSON to fit DataFrame\n",
    "    df = pd.json_normalize(\n",
    "        fsq_response.json(), record_path='results'\n",
    "    )\n",
    "    fsq_df = pd.concat([fsq_df, df], ignore_index=True)\n",
    "# Write the data to CSV - IDEALLY SHOULD APPEND  \n",
    "fsq_df.to_csv('../data/fsq_search_data.csv', sep=',', index=False)"
   ],
   "outputs": [],
   "execution_count": 58
  },
  {
   "cell_type": "markdown",
   "metadata": {},
   "source": "### Put your parsed results into a DataFrame"
  },
  {
   "cell_type": "code",
   "metadata": {
    "ExecuteTime": {
     "end_time": "2024-11-17T21:32:37.970328Z",
     "start_time": "2024-11-17T21:32:37.963959Z"
    }
   },
   "source": [
    "fsq_df = pd.read_csv('../data/fsq_search_data.csv')\n",
    "# fsq_df.head()"
   ],
   "outputs": [],
   "execution_count": 60
  },
  {
   "cell_type": "markdown",
   "metadata": {},
   "source": [
    "# Yelp"
   ]
  },
  {
   "metadata": {
    "ExecuteTime": {
     "end_time": "2024-11-18T21:11:57.846116Z",
     "start_time": "2024-11-18T21:11:57.843517Z"
    }
   },
   "cell_type": "code",
   "source": [
    "# Get Yelp API Key\n",
    "yelp_api_key = os.environ['YELP_API_KEY']\n",
    "# Set Yelp URL\n",
    "yelp_url = 'https://api.yelp.com/v3/businesses/search'\n",
    "# Create dictionary for headers and add API KEY\n",
    "yelp_headers = {\n",
    "    'accept': 'application/json',\n",
    "    'Authorization': f'Bearer {yelp_api_key}'\n",
    "}"
   ],
   "outputs": [],
   "execution_count": 80
  },
  {
   "cell_type": "markdown",
   "metadata": {},
   "source": "### Send a request to Yelp with a small radius (1000m) for all the bike stations in your city of choice. "
  },
  {
   "metadata": {
    "ExecuteTime": {
     "end_time": "2024-11-18T21:12:01.866182Z",
     "start_time": "2024-11-18T21:12:01.863948Z"
    }
   },
   "cell_type": "code",
   "source": [
    "# Getting parameters for the api query string\n",
    "def get_yelp_params(lat, lon):\n",
    "    return {\n",
    "        'latitude': lat,\n",
    "        'longitude': lon,\n",
    "        'radius': 1000,\n",
    "        'limit': 10,\n",
    "        'categories': 'Bars,Restaurants,Hotels'\n",
    "    }"
   ],
   "outputs": [],
   "execution_count": 81
  },
  {
   "metadata": {
    "ExecuteTime": {
     "end_time": "2024-11-18T21:12:03.872152Z",
     "start_time": "2024-11-18T21:12:03.869977Z"
    }
   },
   "cell_type": "code",
   "source": [
    "# Send API requests\n",
    "def get_yelp_response(url, headers, params):\n",
    "    return requests.get(url, headers=headers, params=params)"
   ],
   "outputs": [],
   "execution_count": 82
  },
  {
   "cell_type": "markdown",
   "metadata": {},
   "source": "### Parse through the response to get the POI (such as restaurants, bars, etc) details you want (ratings, name, location, etc)"
  },
  {
   "cell_type": "code",
   "metadata": {
    "ExecuteTime": {
     "end_time": "2024-11-18T21:12:41.334738Z",
     "start_time": "2024-11-18T21:12:16.305135Z"
    }
   },
   "source": [
    "#Yelp DataFrame\n",
    "yelp_df = pd.DataFrame()\n",
    "\n",
    "for i, station in city_bikes.head(1).iterrows():\n",
    "    # Set params\n",
    "    latitude, longitude = station['latitude'], station['longitude']\n",
    "    yelp_params = get_yelp_params(latitude, longitude)\n",
    "    # Get response\n",
    "    yelp_response = get_yelp_response(yelp_url, yelp_headers, yelp_params)\n",
    "    # Normalize response JSON to fit DataFrame\n",
    "    df = pd.json_normalize(\n",
    "        yelp_response.json(), record_path='businesses'\n",
    "    )\n",
    "    yelp_df = pd.concat([yelp_df, df], ignore_index=True)\n",
    "\n",
    "# Write the data to CSV - IDEALLY SHOULD APPEND\n",
    "yelp_df.to_csv('../data/yelp_search_data.csv', sep=',', index=False)"
   ],
   "outputs": [],
   "execution_count": 83
  },
  {
   "cell_type": "markdown",
   "metadata": {},
   "source": "### Put your parsed results into a DataFrame"
  },
  {
   "metadata": {},
   "cell_type": "markdown",
   "source": "## FourSquare Data "
  },
  {
   "metadata": {
    "ExecuteTime": {
     "end_time": "2024-11-17T21:33:16.088850Z",
     "start_time": "2024-11-17T21:33:16.022760Z"
    }
   },
   "cell_type": "code",
   "source": [
    "#Read from CSV\n",
    "fsq_df = pd.read_csv('../data/fsq_search_data.csv')\n",
    "# Safely evaluate the string as a Python dictionary\n",
    "fsq_df['categories'] = fsq_df['categories'].apply(ast.literal_eval)\n",
    "# Explode the data by categories\n",
    "fsq_df = fsq_df.explode('categories')\n",
    "# Explode the dictionary\n",
    "categories = fsq_df['categories'].apply(pd.Series)\n",
    "# Rename the categories columns\n",
    "categories.columns = ['category.id', 'category.short', 'category.name', 'category.plural', 'category.img_url']\n",
    "# categories.head()\n",
    "# Replace categories column by columns\n",
    "fsq_df = pd.concat([fsq_df.drop(columns=['categories']), categories], axis=1)\n",
    "print(fsq_df.head(1))\n",
    "# Choose columns for EDA\n",
    "fsq_df = fsq_df[['name','price', 'rating', 'distance', 'category.plural', 'category.name']]\n",
    "# fsq_df.head()"
   ],
   "outputs": [
    {
     "name": "stdout",
     "output_type": "stream",
     "text": [
      "   distance        name  price  rating  category.id category.short  \\\n",
      "0       670  Montenegro    1.0     8.0        13064       Pizzeria   \n",
      "\n",
      "  category.name category.plural  \\\n",
      "0         Pizza       Pizzerias   \n",
      "\n",
      "                                    category.img_url  \n",
      "0  {'prefix': 'https://ss3.4sqi.net/img/categorie...  \n"
     ]
    }
   ],
   "execution_count": 61
  },
  {
   "metadata": {},
   "cell_type": "markdown",
   "source": "## YELP Data"
  },
  {
   "metadata": {
    "ExecuteTime": {
     "end_time": "2024-11-18T21:13:21.894095Z",
     "start_time": "2024-11-18T21:13:21.848561Z"
    }
   },
   "cell_type": "code",
   "source": [
    "#Read from CSV\n",
    "yelp_df = pd.read_csv('../data/yelp_search_data.csv')\n",
    "# Safely evaluate the string as a Python dictionary\n",
    "yelp_df['categories'] = yelp_df['categories'].apply(ast.literal_eval)\n",
    "# Explode the data by categories\n",
    "yelp_df = yelp_df.explode('categories')\n",
    "# Explode the dictionary\n",
    "categories = yelp_df['categories'].apply(pd.Series)\n",
    "# Rename the categories columns\n",
    "categories.columns = ['category.alias', 'category.title']\n",
    "# Replace categories column by columns\n",
    "yelp_df = pd.concat([yelp_df.drop(columns=['categories']), categories], axis=1)\n",
    "# Choose columns for EDA\n",
    "yelp_df = yelp_df[['name', 'review_count', 'rating', 'price', 'distance', 'business_hours', 'category.title']]\n",
    "yelp_df.head()"
   ],
   "outputs": [
    {
     "data": {
      "text/plain": [
       "         name  review_count  rating price    distance  \\\n",
       "0    Bar Klif             1     3.0     $  184.713994   \n",
       "1  Cafe Molus             3     4.0     $  595.066046   \n",
       "1  Cafe Molus             3     4.0     $  595.066046   \n",
       "1  Cafe Molus             3     4.0     $  595.066046   \n",
       "2   La Grande             1     4.0   NaN  328.194576   \n",
       "\n",
       "                                      business_hours  \\\n",
       "0                                                 []   \n",
       "1  [{'open': [{'is_overnight': False, 'start': '1...   \n",
       "1  [{'open': [{'is_overnight': False, 'start': '1...   \n",
       "1  [{'open': [{'is_overnight': False, 'start': '1...   \n",
       "2  [{'open': [{'is_overnight': False, 'start': '1...   \n",
       "\n",
       "              category.title  \n",
       "0                       Bars  \n",
       "1  Ice Cream & Frozen Yogurt  \n",
       "1               Coffee & Tea  \n",
       "1       Patisserie/Cake Shop  \n",
       "2                      Pizza  "
      ],
      "text/html": [
       "<div>\n",
       "<style scoped>\n",
       "    .dataframe tbody tr th:only-of-type {\n",
       "        vertical-align: middle;\n",
       "    }\n",
       "\n",
       "    .dataframe tbody tr th {\n",
       "        vertical-align: top;\n",
       "    }\n",
       "\n",
       "    .dataframe thead th {\n",
       "        text-align: right;\n",
       "    }\n",
       "</style>\n",
       "<table border=\"1\" class=\"dataframe\">\n",
       "  <thead>\n",
       "    <tr style=\"text-align: right;\">\n",
       "      <th></th>\n",
       "      <th>name</th>\n",
       "      <th>review_count</th>\n",
       "      <th>rating</th>\n",
       "      <th>price</th>\n",
       "      <th>distance</th>\n",
       "      <th>business_hours</th>\n",
       "      <th>category.title</th>\n",
       "    </tr>\n",
       "  </thead>\n",
       "  <tbody>\n",
       "    <tr>\n",
       "      <th>0</th>\n",
       "      <td>Bar Klif</td>\n",
       "      <td>1</td>\n",
       "      <td>3.0</td>\n",
       "      <td>$</td>\n",
       "      <td>184.713994</td>\n",
       "      <td>[]</td>\n",
       "      <td>Bars</td>\n",
       "    </tr>\n",
       "    <tr>\n",
       "      <th>1</th>\n",
       "      <td>Cafe Molus</td>\n",
       "      <td>3</td>\n",
       "      <td>4.0</td>\n",
       "      <td>$</td>\n",
       "      <td>595.066046</td>\n",
       "      <td>[{'open': [{'is_overnight': False, 'start': '1...</td>\n",
       "      <td>Ice Cream &amp; Frozen Yogurt</td>\n",
       "    </tr>\n",
       "    <tr>\n",
       "      <th>1</th>\n",
       "      <td>Cafe Molus</td>\n",
       "      <td>3</td>\n",
       "      <td>4.0</td>\n",
       "      <td>$</td>\n",
       "      <td>595.066046</td>\n",
       "      <td>[{'open': [{'is_overnight': False, 'start': '1...</td>\n",
       "      <td>Coffee &amp; Tea</td>\n",
       "    </tr>\n",
       "    <tr>\n",
       "      <th>1</th>\n",
       "      <td>Cafe Molus</td>\n",
       "      <td>3</td>\n",
       "      <td>4.0</td>\n",
       "      <td>$</td>\n",
       "      <td>595.066046</td>\n",
       "      <td>[{'open': [{'is_overnight': False, 'start': '1...</td>\n",
       "      <td>Patisserie/Cake Shop</td>\n",
       "    </tr>\n",
       "    <tr>\n",
       "      <th>2</th>\n",
       "      <td>La Grande</td>\n",
       "      <td>1</td>\n",
       "      <td>4.0</td>\n",
       "      <td>NaN</td>\n",
       "      <td>328.194576</td>\n",
       "      <td>[{'open': [{'is_overnight': False, 'start': '1...</td>\n",
       "      <td>Pizza</td>\n",
       "    </tr>\n",
       "  </tbody>\n",
       "</table>\n",
       "</div>"
      ]
     },
     "execution_count": 84,
     "metadata": {},
     "output_type": "execute_result"
    }
   ],
   "execution_count": 84
  },
  {
   "cell_type": "markdown",
   "metadata": {},
   "source": [
    "# Comparing Results"
   ]
  },
  {
   "cell_type": "markdown",
   "metadata": {},
   "source": "### Which API provided you with more complete data? Provide an explanation? "
  },
  {
   "metadata": {},
   "cell_type": "markdown",
   "source": "#### Each APIs have different approach to handle the data. The outcome of a query depends on various parameters. I wish I could test all the possible options"
  },
  {
   "cell_type": "markdown",
   "metadata": {},
   "source": "### Get the top 10 restaurants according to their rating"
  },
  {
   "metadata": {},
   "cell_type": "markdown",
   "source": "### FourSquare Top 10 by ranking "
  },
  {
   "metadata": {
    "ExecuteTime": {
     "end_time": "2024-11-18T21:13:45.623898Z",
     "start_time": "2024-11-18T21:13:45.615859Z"
    }
   },
   "cell_type": "code",
   "source": [
    "# Remove duplicate rows\n",
    "df = fsq_df.drop_duplicates().copy()\n",
    "# print(df.head())\n",
    "# Sort data by rating\n",
    "df.sort_values(by='rating', ascending=False, inplace=True)\n",
    "# Display top 10\n",
    "df.head(10)\n",
    "# Write the data to CSV - for EDA\n",
    "df.to_csv('../data/fsq_for_EDA.csv', index=False)"
   ],
   "outputs": [],
   "execution_count": 85
  },
  {
   "metadata": {},
   "cell_type": "markdown",
   "source": "### YELP Top 10 by ranking"
  },
  {
   "metadata": {
    "ExecuteTime": {
     "end_time": "2024-11-18T21:14:02.842586Z",
     "start_time": "2024-11-18T21:14:02.832282Z"
    }
   },
   "cell_type": "code",
   "source": [
    "# Remove duplicate rows\n",
    "df = yelp_df.drop_duplicates().copy()\n",
    "# Sort data by rating\n",
    "df.sort_values(by='rating', ascending=False, inplace=True)\n",
    "# Display top 10\n",
    "df.head(10)\n",
    "# Write the data to CSV - for EDA\n",
    "df.to_csv('../data/yelp_for_EDA.csv', index=False)"
   ],
   "outputs": [],
   "execution_count": 86
  },
  {
   "metadata": {},
   "cell_type": "markdown",
   "source": "## Testing Area"
  },
  {
   "metadata": {
    "ExecuteTime": {
     "end_time": "2024-11-17T21:23:08.531830Z",
     "start_time": "2024-11-17T18:29:03.192035Z"
    }
   },
   "cell_type": "code",
   "source": [
    "# Open and read the JSON file\n",
    "# with open('fsq_search_response.json', 'r') as file:\n",
    "#     data = json.load(file)\n",
    "# data = pd.read_json('fsq_search_columns.json')\n",
    "# data = data.explode('categories').reset_index(drop=True)\n",
    "# data['categories'] = data['categories'].apply(lambda x: x['short_name'])\n",
    "# data.drop([\n",
    "#     'geocodes.drop_off.latitude',\n",
    "#     'geocodes.drop_off.longitude',\n",
    "#     'geocodes.roof.latitude',\n",
    "#     'geocodes.roof.longitude',\n",
    "# ], axis=1, inplace=True)\n",
    "# data"
   ],
   "outputs": [],
   "execution_count": 474
  }
 ],
 "metadata": {
  "kernelspec": {
   "display_name": "Python 3",
   "language": "python",
   "name": "python3"
  },
  "language_info": {
   "codemirror_mode": {
    "name": "ipython",
    "version": 3
   },
   "file_extension": ".py",
   "mimetype": "text/x-python",
   "name": "python",
   "nbconvert_exporter": "python",
   "pygments_lexer": "ipython3",
   "version": "3.8.5"
  }
 },
 "nbformat": 4,
 "nbformat_minor": 4
}
