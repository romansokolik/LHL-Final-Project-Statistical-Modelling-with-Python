{
 "cells": [
  {
   "cell_type": "markdown",
   "metadata": {},
   "source": "# CityBikes"
  },
  {
   "metadata": {
    "ExecuteTime": {
     "end_time": "2024-11-18T23:47:38.338270Z",
     "start_time": "2024-11-18T23:47:38.336091Z"
    }
   },
   "cell_type": "code",
   "source": [
    "import pandas as pd\n",
    "import json"
   ],
   "outputs": [],
   "execution_count": 14
  },
  {
   "metadata": {
    "ExecuteTime": {
     "end_time": "2024-11-18T23:47:39.023530Z",
     "start_time": "2024-11-18T23:47:38.342991Z"
    }
   },
   "cell_type": "code",
   "source": [
    "# API Base URL \n",
    "base_api = 'http://api.citybik.es/v2/networks'\n",
    "# Read the json\n",
    "data = pd.read_json(base_api)\n",
    "# Store formated data in DataFrame\n",
    "networks = pd.json_normalize(data['networks'])\n",
    "# Display a sample of the data\n",
    "print(networks.head(1))\n",
    "# Show networks ID & City in Poland\n",
    "print(networks[['id', 'location.city']][networks['location.country'] == 'PL'].reset_index(drop=True))"
   ],
   "outputs": [
    {
     "name": "stdout",
     "output_type": "stream",
     "text": [
      "                      id                   name  \\\n",
      "0  abu-dhabi-careem-bike  Abu Dhabi Careem BIKE   \n",
      "\n",
      "                                 href   company  \\\n",
      "0  /v2/networks/abu-dhabi-careem-bike  [Careem]   \n",
      "\n",
      "                                           gbfs_href  location.latitude  \\\n",
      "0  https://dubai.publicbikesystem.net/customer/gb...            24.4866   \n",
      "\n",
      "   location.longitude location.city location.country system source ebikes  \\\n",
      "0             54.3728     Abu Dhabi               AE    NaN    NaN    NaN   \n",
      "\n",
      "  license.name license.url scooters instances  \n",
      "0          NaN         NaN      NaN       NaN  \n",
      "                                                id  \\\n",
      "0                                        bikeu-bra   \n",
      "1             komornicki-system-rowerowy-komorniki   \n",
      "2                                lrm-lublin-lublin   \n",
      "3                                       metrorower   \n",
      "4                      oleski-rower-miejski-olesno   \n",
      "5   piotrkowski-rower-miejski-piotrkow-trybunalski   \n",
      "6             pobiedziski-rower-gminny-pobiedziska   \n",
      "7                 rower-powiatowy-sokolow-podlaski   \n",
      "8                     rowerowe-lodzkie-rl-koluszki   \n",
      "9                        rowerowe-lodzkie-rl-kutno   \n",
      "10                        rowerowe-lodzkie-rl-lask   \n",
      "11                     rowerowe-lodzkie-rl-lodz-rl   \n",
      "12                      rowerowe-lodzkie-rl-lowicz   \n",
      "13                   rowerowe-lodzkie-rl-pabianice   \n",
      "14                     rowerowe-lodzkie-rl-sieradz   \n",
      "15                rowerowe-lodzkie-rl-skierniewice   \n",
      "16                rowerowe-lodzkie-rl-zdunska-wola   \n",
      "17                      rowerowe-lodzkie-rl-zgierz   \n",
      "18                                 ski-rower-chelm   \n",
      "19              system-roweru-gminnego-pielgrzymka   \n",
      "20                                         torvelo   \n",
      "21                         tychowski-rower-miejski   \n",
      "22                        veturilo-nextbike-warsaw   \n",
      "23                                     wrm-wroclaw   \n",
      "\n",
      "                          location.city  \n",
      "0                             Bydgoszcz  \n",
      "1                             Komorniki  \n",
      "2                                Lublin  \n",
      "3   Górnośląsko-Zagłębiowska Metropolia  \n",
      "4                                Olesno  \n",
      "5                  Piotrków Trybunalski  \n",
      "6                           Pobiedziska  \n",
      "7                      Sokołów Podlaski  \n",
      "8                              Koluszki  \n",
      "9                                 Kutno  \n",
      "10                                 Łask  \n",
      "11                                 Łódź  \n",
      "12                               Łowicz  \n",
      "13                            Pabianice  \n",
      "14                              Sieradz  \n",
      "15                         Skierniewice  \n",
      "16                         Zduńska Wola  \n",
      "17                               Zgierz  \n",
      "18                                Chełm  \n",
      "19                          Pielgrzymka  \n",
      "20                                Toruń  \n",
      "21                              Tychowo  \n",
      "22                               Warsaw  \n",
      "23                              Wrocław  \n"
     ]
    }
   ],
   "execution_count": 15
  },
  {
   "cell_type": "markdown",
   "metadata": {},
   "source": "### Send a request to CityBikes for the city of your choice. "
  },
  {
   "metadata": {
    "ExecuteTime": {
     "end_time": "2024-11-18T23:47:39.260951Z",
     "start_time": "2024-11-18T23:47:39.033147Z"
    }
   },
   "cell_type": "code",
   "source": [
    "# Bike Network in Torun, Poland\n",
    "network_id = 'torvelo'\n",
    "# Get data fron API\n",
    "data = pd.read_json(base_api + f'/{network_id}?fields=stations')\n",
    "# Filter the data\n",
    "stations = data['network']['stations'].copy()\n",
    "# stations"
   ],
   "outputs": [],
   "execution_count": 16
  },
  {
   "metadata": {},
   "cell_type": "markdown",
   "source": "### Parse through the response to get the details you want for the bike stations in that city (latitude, longitude, number of bikes)"
  },
  {
   "cell_type": "code",
   "metadata": {
    "ExecuteTime": {
     "end_time": "2024-11-18T23:47:39.281308Z",
     "start_time": "2024-11-18T23:47:39.278485Z"
    }
   },
   "source": [
    "# Save all stations info in a list\n",
    "stations_list = []\n",
    "for i, station in enumerate(stations):\n",
    "    lat = f\"{station['latitude']:.6f}\"\n",
    "    lon = f\"{station['longitude']:.6f}\"\n",
    "    free = station['free_bikes']\n",
    "    bikes = 'bike' if free == 1 else 'bikes'\n",
    "    # print(station['name'])\n",
    "    # print(f\"{i + 1}. ({lat}, {lon}) : {free} {bikes} available\")\n",
    "    # if lat == '43.6532': print(station['name'])\n",
    "    stations_list.append(\n",
    "        {\n",
    "            'latitude': float(lat),\n",
    "            'longitude': float(lon),\n",
    "            'bikes_available': int(free)\n",
    "        },\n",
    "    )"
   ],
   "outputs": [],
   "execution_count": 17
  },
  {
   "cell_type": "markdown",
   "metadata": {},
   "source": "### Put your parsed results into a DataFrame."
  },
  {
   "cell_type": "code",
   "metadata": {
    "ExecuteTime": {
     "end_time": "2024-11-18T23:47:39.300607Z",
     "start_time": "2024-11-18T23:47:39.294856Z"
    }
   },
   "source": [
    "# Store the list in a DataFrame\n",
    "stations_df = pd.DataFrame(stations_list)\n",
    "# Print top 5 station with most bikes available\n",
    "print(stations_df.sort_values(by='bikes_available', ascending=False).head())\n",
    "# DataFrame Info\n",
    "stations_df.info()"
   ],
   "outputs": [
    {
     "name": "stdout",
     "output_type": "stream",
     "text": [
      "     latitude  longitude  bikes_available\n",
      "39  53.015745  18.607203                9\n",
      "30  53.023882  18.617910                9\n",
      "20  53.020554  18.570606                9\n",
      "36  53.021252  18.613106                8\n",
      "29  53.031525  18.610275                8\n",
      "<class 'pandas.core.frame.DataFrame'>\n",
      "RangeIndex: 51 entries, 0 to 50\n",
      "Data columns (total 3 columns):\n",
      " #   Column           Non-Null Count  Dtype  \n",
      "---  ------           --------------  -----  \n",
      " 0   latitude         51 non-null     float64\n",
      " 1   longitude        51 non-null     float64\n",
      " 2   bikes_available  51 non-null     int64  \n",
      "dtypes: float64(2), int64(1)\n",
      "memory usage: 1.3 KB\n"
     ]
    }
   ],
   "execution_count": 18
  },
  {
   "metadata": {},
   "cell_type": "markdown",
   "source": "### Save data into CSV file"
  },
  {
   "metadata": {
    "ExecuteTime": {
     "end_time": "2024-11-18T23:47:39.316866Z",
     "start_time": "2024-11-18T23:47:39.313803Z"
    }
   },
   "cell_type": "code",
   "source": [
    "# Saving data into CSV file\n",
    "stations_df.to_csv('../data/city_bikes.csv', index=False)"
   ],
   "outputs": [],
   "execution_count": 19
  }
 ],
 "metadata": {
  "kernelspec": {
   "display_name": "Python 3",
   "language": "python",
   "name": "python3"
  },
  "language_info": {
   "codemirror_mode": {
    "name": "ipython",
    "version": 3
   },
   "file_extension": ".py",
   "mimetype": "text/x-python",
   "name": "python",
   "nbconvert_exporter": "python",
   "pygments_lexer": "ipython3",
   "version": "3.8.5"
  }
 },
 "nbformat": 4,
 "nbformat_minor": 4
}
