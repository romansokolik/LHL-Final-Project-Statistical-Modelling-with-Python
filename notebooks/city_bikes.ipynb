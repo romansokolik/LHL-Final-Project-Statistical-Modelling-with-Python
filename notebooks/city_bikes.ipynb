{
 "cells": [
  {
   "cell_type": "markdown",
   "metadata": {},
   "source": "# CityBikes"
  },
  {
   "metadata": {
    "ExecuteTime": {
     "end_time": "2024-11-14T22:57:55.740019Z",
     "start_time": "2024-11-14T22:57:48.933760Z"
    }
   },
   "cell_type": "code",
   "source": [
    "import pandas as pd\n",
    "import json\n",
    "from pprint import pprint\n",
    "\n",
    "from pandas.core.interchange.dataframe_protocol import DataFrame"
   ],
   "outputs": [],
   "execution_count": 9
  },
  {
   "metadata": {
    "ExecuteTime": {
     "end_time": "2024-11-14T22:57:56.728242Z",
     "start_time": "2024-11-14T22:57:55.752354Z"
    }
   },
   "cell_type": "code",
   "source": [
    "base_api = 'http://api.citybik.es/v2/networks'\n",
    "data = pd.read_json(base_api)\n",
    "networks = pd.json_normalize(data['networks'])\n",
    "# networks.head()\n",
    "networks[networks['location.city'].str.lower().str.contains('toronto')]"
   ],
   "outputs": [
    {
     "data": {
      "text/plain": [
       "               id                name                       href  \\\n",
       "170  bixi-toronto  Bike Share Toronto  /v2/networks/bixi-toronto   \n",
       "\n",
       "                                               company  \\\n",
       "170  [Motivate International, Inc., PBSC Urban Solu...   \n",
       "\n",
       "                                         gbfs_href  location.latitude  \\\n",
       "170  https://tor.publicbikesystem.net/ube/gbfs/v1/          43.653226   \n",
       "\n",
       "     location.longitude location.city location.country system source ebikes  \\\n",
       "170          -79.383184   Toronto, ON               CA    NaN    NaN    NaN   \n",
       "\n",
       "    license.name license.url scooters instances  \n",
       "170          NaN         NaN      NaN       NaN  "
      ],
      "text/html": [
       "<div>\n",
       "<style scoped>\n",
       "    .dataframe tbody tr th:only-of-type {\n",
       "        vertical-align: middle;\n",
       "    }\n",
       "\n",
       "    .dataframe tbody tr th {\n",
       "        vertical-align: top;\n",
       "    }\n",
       "\n",
       "    .dataframe thead th {\n",
       "        text-align: right;\n",
       "    }\n",
       "</style>\n",
       "<table border=\"1\" class=\"dataframe\">\n",
       "  <thead>\n",
       "    <tr style=\"text-align: right;\">\n",
       "      <th></th>\n",
       "      <th>id</th>\n",
       "      <th>name</th>\n",
       "      <th>href</th>\n",
       "      <th>company</th>\n",
       "      <th>gbfs_href</th>\n",
       "      <th>location.latitude</th>\n",
       "      <th>location.longitude</th>\n",
       "      <th>location.city</th>\n",
       "      <th>location.country</th>\n",
       "      <th>system</th>\n",
       "      <th>source</th>\n",
       "      <th>ebikes</th>\n",
       "      <th>license.name</th>\n",
       "      <th>license.url</th>\n",
       "      <th>scooters</th>\n",
       "      <th>instances</th>\n",
       "    </tr>\n",
       "  </thead>\n",
       "  <tbody>\n",
       "    <tr>\n",
       "      <th>170</th>\n",
       "      <td>bixi-toronto</td>\n",
       "      <td>Bike Share Toronto</td>\n",
       "      <td>/v2/networks/bixi-toronto</td>\n",
       "      <td>[Motivate International, Inc., PBSC Urban Solu...</td>\n",
       "      <td>https://tor.publicbikesystem.net/ube/gbfs/v1/</td>\n",
       "      <td>43.653226</td>\n",
       "      <td>-79.383184</td>\n",
       "      <td>Toronto, ON</td>\n",
       "      <td>CA</td>\n",
       "      <td>NaN</td>\n",
       "      <td>NaN</td>\n",
       "      <td>NaN</td>\n",
       "      <td>NaN</td>\n",
       "      <td>NaN</td>\n",
       "      <td>NaN</td>\n",
       "      <td>NaN</td>\n",
       "    </tr>\n",
       "  </tbody>\n",
       "</table>\n",
       "</div>"
      ]
     },
     "execution_count": 10,
     "metadata": {},
     "output_type": "execute_result"
    }
   ],
   "execution_count": 10
  },
  {
   "cell_type": "markdown",
   "metadata": {},
   "source": "### Send a request to CityBikes for the city of your choice. "
  },
  {
   "metadata": {
    "ExecuteTime": {
     "end_time": "2024-11-14T22:58:05.469536Z",
     "start_time": "2024-11-14T22:58:04.830198Z"
    }
   },
   "cell_type": "code",
   "source": [
    "data = pd.read_json(base_api + '/bixi-toronto?fields=stations')\n",
    "stations = data['network']['stations'].copy()\n",
    "# stations"
   ],
   "outputs": [],
   "execution_count": 11
  },
  {
   "metadata": {},
   "cell_type": "markdown",
   "source": "### Parse through the response to get the details you want for the bike stations in that city (latitude, longitude, number of bikes)"
  },
  {
   "cell_type": "code",
   "metadata": {
    "ExecuteTime": {
     "end_time": "2024-11-14T22:58:43.861015Z",
     "start_time": "2024-11-14T22:58:43.857229Z"
    }
   },
   "source": [
    "stations_list = []\n",
    "for i, station in enumerate(stations):\n",
    "    lat = f\"{station['latitude']:.4f}\"\n",
    "    lon = f\"{station['longitude']:.4f}\"\n",
    "    free = station['free_bikes']\n",
    "    bikes = 'bike' if free == 1 else 'bikes'\n",
    "    # print(f\"{i + 1}. ({lat}, {lon}) : {free} {bikes} available\")\n",
    "    # if lat == '43.6532': print(station['name'])\n",
    "    stations_list.append(\n",
    "        {\n",
    "            'latitude': float(lat),\n",
    "            'longitude': float(lon),\n",
    "            'bikes_available': int(free)\n",
    "        },\n",
    "    )"
   ],
   "outputs": [],
   "execution_count": 15
  },
  {
   "cell_type": "markdown",
   "metadata": {},
   "source": "### Put your parsed results into a DataFrame."
  },
  {
   "cell_type": "code",
   "metadata": {
    "ExecuteTime": {
     "end_time": "2024-11-14T22:59:00.758403Z",
     "start_time": "2024-11-14T22:59:00.753297Z"
    }
   },
   "source": [
    "stations_df = pd.DataFrame(stations_list)\n",
    "stations_df.info()"
   ],
   "outputs": [
    {
     "name": "stdout",
     "output_type": "stream",
     "text": [
      "<class 'pandas.core.frame.DataFrame'>\n",
      "RangeIndex: 852 entries, 0 to 851\n",
      "Data columns (total 3 columns):\n",
      " #   Column           Non-Null Count  Dtype  \n",
      "---  ------           --------------  -----  \n",
      " 0   latitude         852 non-null    float64\n",
      " 1   longitude        852 non-null    float64\n",
      " 2   bikes_available  852 non-null    int64  \n",
      "dtypes: float64(2), int64(1)\n",
      "memory usage: 20.1 KB\n"
     ]
    }
   ],
   "execution_count": 17
  },
  {
   "metadata": {},
   "cell_type": "code",
   "outputs": [],
   "execution_count": null,
   "source": ""
  },
  {
   "metadata": {},
   "cell_type": "code",
   "outputs": [],
   "execution_count": null,
   "source": ""
  }
 ],
 "metadata": {
  "kernelspec": {
   "display_name": "Python 3",
   "language": "python",
   "name": "python3"
  },
  "language_info": {
   "codemirror_mode": {
    "name": "ipython",
    "version": 3
   },
   "file_extension": ".py",
   "mimetype": "text/x-python",
   "name": "python",
   "nbconvert_exporter": "python",
   "pygments_lexer": "ipython3",
   "version": "3.8.5"
  }
 },
 "nbformat": 4,
 "nbformat_minor": 4
}
